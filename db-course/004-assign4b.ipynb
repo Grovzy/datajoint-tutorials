{
 "cells": [
  {
   "cell_type": "code",
   "execution_count": 1,
   "metadata": {},
   "outputs": [],
   "source": [
    "import datajoint as dj"
   ]
  },
  {
   "cell_type": "code",
   "execution_count": 2,
   "metadata": {},
   "outputs": [
    {
     "name": "stderr",
     "output_type": "stream",
     "text": [
      "[2023-10-02 01:18:52,954][INFO]: Connecting root@fakeservices.datajoint.io:3306\n",
      "[2023-10-02 01:18:52,962][INFO]: Connected root@fakeservices.datajoint.io:3306\n"
     ]
    }
   ],
   "source": [
    "schema = dj.Schema('student')"
   ]
  },
  {
   "cell_type": "code",
   "execution_count": 3,
   "metadata": {},
   "outputs": [],
   "source": [
    "@schema\n",
    "class Student(dj.Manual):\n",
    "    definition = \"\"\"\n",
    "stud_id    : int unsigned\n",
    "---\n",
    "first_name : varchar(40)\n",
    "last_name  : varchar(40)\n",
    "\n",
    "\"\"\""
   ]
  },
  {
   "cell_type": "code",
   "execution_count": 4,
   "metadata": {},
   "outputs": [],
   "source": [
    "Student.insert1((1, \"Jane\", \"Doe\"))\n"
   ]
  },
  {
   "cell_type": "code",
   "execution_count": null,
   "metadata": {},
   "outputs": [],
   "source": [
    "Student.insert1((2, \"Kudos\", \"Ani\"))\n"
   ]
  },
  {
   "cell_type": "code",
   "execution_count": 11,
   "metadata": {},
   "outputs": [],
   "source": [
    "\n",
    "Student.insert1((4, \"James\", \"Don\"))\n",
    "Student.insert1((5, \"Toby\", \"Daniel\"))\n"
   ]
  },
  {
   "cell_type": "code",
   "execution_count": 12,
   "metadata": {},
   "outputs": [
    {
     "data": {
      "text/html": [
       "\n",
       "    \n",
       "    <style type=\"text/css\">\n",
       "        .Table{\n",
       "            border-collapse:collapse;\n",
       "        }\n",
       "        .Table th{\n",
       "            background: #A0A0A0; color: #ffffff; padding:4px; border:#f0e0e0 1px solid;\n",
       "            font-weight: normal; font-family: monospace; font-size: 100%;\n",
       "        }\n",
       "        .Table td{\n",
       "            padding:4px; border:#f0e0e0 1px solid; font-size:100%;\n",
       "        }\n",
       "        .Table tr:nth-child(odd){\n",
       "            background: #ffffff;\n",
       "            color: #000000;\n",
       "        }\n",
       "        .Table tr:nth-child(even){\n",
       "            background: #f3f1ff;\n",
       "            color: #000000;\n",
       "        }\n",
       "        /* Tooltip container */\n",
       "        .djtooltip {\n",
       "        }\n",
       "        /* Tooltip text */\n",
       "        .djtooltip .djtooltiptext {\n",
       "            visibility: hidden;\n",
       "            width: 120px;\n",
       "            background-color: black;\n",
       "            color: #fff;\n",
       "            text-align: center;\n",
       "            padding: 5px 0;\n",
       "            border-radius: 6px;\n",
       "            /* Position the tooltip text - see examples below! */\n",
       "            position: absolute;\n",
       "            z-index: 1;\n",
       "        }\n",
       "        #primary {\n",
       "            font-weight: bold;\n",
       "            color: black;\n",
       "        }\n",
       "        #nonprimary {\n",
       "            font-weight: normal;\n",
       "            color: white;\n",
       "        }\n",
       "\n",
       "        /* Show the tooltip text when you mouse over the tooltip container */\n",
       "        .djtooltip:hover .djtooltiptext {\n",
       "            visibility: visible;\n",
       "        }\n",
       "    </style>\n",
       "    \n",
       "    <b></b>\n",
       "        <div style=\"max-height:1000px;max-width:1500px;overflow:auto;\">\n",
       "        <table border=\"1\" class=\"Table\">\n",
       "            <thead> <tr style=\"text-align: right;\"> <th> <div class=\"djtooltip\">\n",
       "                            <p id=\"primary\">stud_id</p>\n",
       "                            <span class=\"djtooltiptext\"></span>\n",
       "                        </div></th><th><div class=\"djtooltip\">\n",
       "                            <p id=\"nonprimary\">first_name</p>\n",
       "                            <span class=\"djtooltiptext\"></span>\n",
       "                        </div></th><th><div class=\"djtooltip\">\n",
       "                            <p id=\"nonprimary\">last_name</p>\n",
       "                            <span class=\"djtooltiptext\"></span>\n",
       "                        </div> </th> </tr> </thead>\n",
       "            <tbody> <tr> <td>1</td>\n",
       "<td>Jane</td>\n",
       "<td>Doe</td></tr><tr><td>2</td>\n",
       "<td>Jane</td>\n",
       "<td>Doel</td></tr><tr><td>3</td>\n",
       "<td>Kudos</td>\n",
       "<td>Ani</td></tr><tr><td>4</td>\n",
       "<td>James</td>\n",
       "<td>Don</td></tr><tr><td>5</td>\n",
       "<td>Toby</td>\n",
       "<td>Daniel</td> </tr> </tbody>\n",
       "        </table>\n",
       "        \n",
       "        <p>Total: 5</p></div>\n",
       "        "
      ],
      "text/plain": [
       "*stud_id    first_name     last_name    \n",
       "+---------+ +------------+ +-----------+\n",
       "1           Jane           Doe          \n",
       "2           Jane           Doel         \n",
       "3           Kudos          Ani          \n",
       "4           James          Don          \n",
       "5           Toby           Daniel       \n",
       " (Total: 5)"
      ]
     },
     "execution_count": 12,
     "metadata": {},
     "output_type": "execute_result"
    }
   ],
   "source": [
    "Student()"
   ]
  },
  {
   "cell_type": "code",
   "execution_count": 13,
   "metadata": {},
   "outputs": [],
   "source": [
    "@schema\n",
    "class Assignment(dj.Lookup):\n",
    "    definition = \"\"\"\n",
    "assign_number: char(8)\n",
    "---\n",
    "assign_name : varchar(100)\n",
    "-> Student\n",
    "\n",
    "\"\"\"\n",
    "contents = (\n",
    "        (\"Assign-1\", \"creating SQL tables and inserting date\"),\n",
    "        (\"Assign-2\", \"Relational database theory\"),\n",
    "        (\"Assign-3\", \"Data models\")\n",
    " )"
   ]
  },
  {
   "cell_type": "code",
   "execution_count": 15,
   "metadata": {},
   "outputs": [],
   "source": [
    "data_insert = [\n",
    "    (('Assign-1', 'creating SQL tables and inserting date', 1)),\n",
    "    (('Assign-3', '\"Relational database theory', 4)),\n",
    "    (('Assign-2', 'Data models', 5))\n",
    "     \n",
    "    ]\n",
    "Assignment.insert(data_insert)"
   ]
  },
  {
   "cell_type": "code",
   "execution_count": 16,
   "metadata": {},
   "outputs": [
    {
     "data": {
      "text/html": [
       "\n",
       "    \n",
       "    <style type=\"text/css\">\n",
       "        .Table{\n",
       "            border-collapse:collapse;\n",
       "        }\n",
       "        .Table th{\n",
       "            background: #A0A0A0; color: #ffffff; padding:4px; border:#f0e0e0 1px solid;\n",
       "            font-weight: normal; font-family: monospace; font-size: 100%;\n",
       "        }\n",
       "        .Table td{\n",
       "            padding:4px; border:#f0e0e0 1px solid; font-size:100%;\n",
       "        }\n",
       "        .Table tr:nth-child(odd){\n",
       "            background: #ffffff;\n",
       "            color: #000000;\n",
       "        }\n",
       "        .Table tr:nth-child(even){\n",
       "            background: #f3f1ff;\n",
       "            color: #000000;\n",
       "        }\n",
       "        /* Tooltip container */\n",
       "        .djtooltip {\n",
       "        }\n",
       "        /* Tooltip text */\n",
       "        .djtooltip .djtooltiptext {\n",
       "            visibility: hidden;\n",
       "            width: 120px;\n",
       "            background-color: black;\n",
       "            color: #fff;\n",
       "            text-align: center;\n",
       "            padding: 5px 0;\n",
       "            border-radius: 6px;\n",
       "            /* Position the tooltip text - see examples below! */\n",
       "            position: absolute;\n",
       "            z-index: 1;\n",
       "        }\n",
       "        #primary {\n",
       "            font-weight: bold;\n",
       "            color: black;\n",
       "        }\n",
       "        #nonprimary {\n",
       "            font-weight: normal;\n",
       "            color: white;\n",
       "        }\n",
       "\n",
       "        /* Show the tooltip text when you mouse over the tooltip container */\n",
       "        .djtooltip:hover .djtooltiptext {\n",
       "            visibility: visible;\n",
       "        }\n",
       "    </style>\n",
       "    \n",
       "    <b></b>\n",
       "        <div style=\"max-height:1000px;max-width:1500px;overflow:auto;\">\n",
       "        <table border=\"1\" class=\"Table\">\n",
       "            <thead> <tr style=\"text-align: right;\"> <th> <div class=\"djtooltip\">\n",
       "                            <p id=\"primary\">assign_number</p>\n",
       "                            <span class=\"djtooltiptext\"></span>\n",
       "                        </div></th><th><div class=\"djtooltip\">\n",
       "                            <p id=\"nonprimary\">assign_name</p>\n",
       "                            <span class=\"djtooltiptext\"></span>\n",
       "                        </div></th><th><div class=\"djtooltip\">\n",
       "                            <p id=\"nonprimary\">stud_id</p>\n",
       "                            <span class=\"djtooltiptext\"></span>\n",
       "                        </div> </th> </tr> </thead>\n",
       "            <tbody> <tr> <td>Assign-1</td>\n",
       "<td>creating SQL tables and inserting date</td>\n",
       "<td>1</td></tr><tr><td>Assign-2</td>\n",
       "<td>Data models</td>\n",
       "<td>5</td></tr><tr><td>Assign-3</td>\n",
       "<td>\"Relational database theory</td>\n",
       "<td>4</td> </tr> </tbody>\n",
       "        </table>\n",
       "        \n",
       "        <p>Total: 3</p></div>\n",
       "        "
      ],
      "text/plain": [
       "*assign_number assign_name    stud_id    \n",
       "+------------+ +------------+ +---------+\n",
       "Assign-1       creating SQL t 1          \n",
       "Assign-2       Data models    5          \n",
       "Assign-3       \"Relational da 4          \n",
       " (Total: 3)"
      ]
     },
     "execution_count": 16,
     "metadata": {},
     "output_type": "execute_result"
    }
   ],
   "source": [
    "Assignment()"
   ]
  },
  {
   "cell_type": "code",
   "execution_count": 17,
   "metadata": {},
   "outputs": [
    {
     "data": {
      "text/html": [
       "\n",
       "    \n",
       "    <style type=\"text/css\">\n",
       "        .Table{\n",
       "            border-collapse:collapse;\n",
       "        }\n",
       "        .Table th{\n",
       "            background: #A0A0A0; color: #ffffff; padding:4px; border:#f0e0e0 1px solid;\n",
       "            font-weight: normal; font-family: monospace; font-size: 100%;\n",
       "        }\n",
       "        .Table td{\n",
       "            padding:4px; border:#f0e0e0 1px solid; font-size:100%;\n",
       "        }\n",
       "        .Table tr:nth-child(odd){\n",
       "            background: #ffffff;\n",
       "            color: #000000;\n",
       "        }\n",
       "        .Table tr:nth-child(even){\n",
       "            background: #f3f1ff;\n",
       "            color: #000000;\n",
       "        }\n",
       "        /* Tooltip container */\n",
       "        .djtooltip {\n",
       "        }\n",
       "        /* Tooltip text */\n",
       "        .djtooltip .djtooltiptext {\n",
       "            visibility: hidden;\n",
       "            width: 120px;\n",
       "            background-color: black;\n",
       "            color: #fff;\n",
       "            text-align: center;\n",
       "            padding: 5px 0;\n",
       "            border-radius: 6px;\n",
       "            /* Position the tooltip text - see examples below! */\n",
       "            position: absolute;\n",
       "            z-index: 1;\n",
       "        }\n",
       "        #primary {\n",
       "            font-weight: bold;\n",
       "            color: black;\n",
       "        }\n",
       "        #nonprimary {\n",
       "            font-weight: normal;\n",
       "            color: white;\n",
       "        }\n",
       "\n",
       "        /* Show the tooltip text when you mouse over the tooltip container */\n",
       "        .djtooltip:hover .djtooltiptext {\n",
       "            visibility: visible;\n",
       "        }\n",
       "    </style>\n",
       "    \n",
       "    \n",
       "        <div style=\"max-height:1000px;max-width:1500px;overflow:auto;\">\n",
       "        <table border=\"1\" class=\"Table\">\n",
       "            <thead> <tr style=\"text-align: right;\"> <th> <div class=\"djtooltip\">\n",
       "                            <p id=\"primary\">stud_id</p>\n",
       "                            <span class=\"djtooltiptext\"></span>\n",
       "                        </div></th><th><div class=\"djtooltip\">\n",
       "                            <p id=\"primary\">assign_number</p>\n",
       "                            <span class=\"djtooltiptext\"></span>\n",
       "                        </div></th><th><div class=\"djtooltip\">\n",
       "                            <p id=\"nonprimary\">first_name</p>\n",
       "                            <span class=\"djtooltiptext\"></span>\n",
       "                        </div></th><th><div class=\"djtooltip\">\n",
       "                            <p id=\"nonprimary\">last_name</p>\n",
       "                            <span class=\"djtooltiptext\"></span>\n",
       "                        </div></th><th><div class=\"djtooltip\">\n",
       "                            <p id=\"nonprimary\">assign_name</p>\n",
       "                            <span class=\"djtooltiptext\"></span>\n",
       "                        </div> </th> </tr> </thead>\n",
       "            <tbody> <tr> <td>1</td>\n",
       "<td>Assign-1</td>\n",
       "<td>Jane</td>\n",
       "<td>Doe</td>\n",
       "<td>creating SQL tables and inserting date</td></tr><tr><td>5</td>\n",
       "<td>Assign-2</td>\n",
       "<td>Toby</td>\n",
       "<td>Daniel</td>\n",
       "<td>Data models</td></tr><tr><td>4</td>\n",
       "<td>Assign-3</td>\n",
       "<td>James</td>\n",
       "<td>Don</td>\n",
       "<td>\"Relational database theory</td> </tr> </tbody>\n",
       "        </table>\n",
       "        \n",
       "        <p>Total: 3</p></div>\n",
       "        "
      ],
      "text/plain": [
       "*stud_id    *assign_number first_name     last_name     assign_name   \n",
       "+---------+ +------------+ +------------+ +-----------+ +------------+\n",
       "1           Assign-1       Jane           Doe           creating SQL t\n",
       "5           Assign-2       Toby           Daniel        Data models   \n",
       "4           Assign-3       James          Don           \"Relational da\n",
       " (Total: 3)"
      ]
     },
     "execution_count": 17,
     "metadata": {},
     "output_type": "execute_result"
    }
   ],
   "source": [
    "Student*Assignment"
   ]
  },
  {
   "cell_type": "code",
   "execution_count": 18,
   "metadata": {},
   "outputs": [
    {
     "data": {
      "image/svg+xml": [
       "<svg xmlns=\"http://www.w3.org/2000/svg\" xmlns:xlink=\"http://www.w3.org/1999/xlink\" width=\"76pt\" height=\"114pt\" viewBox=\"0.00 0.00 76.00 114.00\">\n",
       "<g id=\"graph0\" class=\"graph\" transform=\"scale(1 1) rotate(0) translate(4 110)\">\n",
       "<title>%3</title>\n",
       "<polygon fill=\"white\" stroke=\"transparent\" points=\"-4,4 -4,-110 72,-110 72,4 -4,4\"/>\n",
       "<!-- Assignment -->\n",
       "<g id=\"node1\" class=\"node\">\n",
       "<title>Assignment</title>\n",
       "<g id=\"a_node1\"><a xlink:title=\"assign_number        \r------------------------------\rassign_name          \r→ Student\r\">\n",
       "<polygon fill=\"#000000\" fill-opacity=\"0.125490\" stroke=\"transparent\" points=\"68,-35 0,-35 0,0 68,0 68,-35\"/>\n",
       "<text text-anchor=\"start\" x=\"8\" y=\"-16\" font-family=\"arial\" text-decoration=\"underline\" font-size=\"10.00\">Assignment</text>\n",
       "</a>\n",
       "</g>\n",
       "</g>\n",
       "<!-- Student -->\n",
       "<g id=\"node2\" class=\"node\">\n",
       "<title>Student</title>\n",
       "<g id=\"a_node2\"><a xlink:title=\"stud_id              \r------------------------------\rfirst_name           \rlast_name            \r\">\n",
       "<polygon fill=\"#00ff00\" fill-opacity=\"0.188235\" stroke=\"#00ff00\" stroke-opacity=\"0.188235\" points=\"63,-106 5,-106 5,-71 63,-71 63,-106\"/>\n",
       "<text text-anchor=\"start\" x=\"13\" y=\"-86.4\" font-family=\"arial\" text-decoration=\"underline\" font-size=\"12.00\" fill=\"darkgreen\">Student</text>\n",
       "</a>\n",
       "</g>\n",
       "</g>\n",
       "<!-- Student&#45;&gt;Assignment -->\n",
       "<g id=\"edge1\" class=\"edge\">\n",
       "<title>Student-&gt;Assignment</title>\n",
       "<path fill=\"none\" stroke=\"#000000\" stroke-width=\"0.75\" stroke-dasharray=\"5,2\" stroke-opacity=\"0.250980\" d=\"M34,-70.8C34,-59.95 34,-45.87 34,-35.05\"/>\n",
       "</g>\n",
       "</g>\n",
       "</svg>"
      ],
      "text/plain": [
       "<datajoint.diagram.Diagram at 0x7f8dfa580220>"
      ]
     },
     "execution_count": 18,
     "metadata": {},
     "output_type": "execute_result"
    }
   ],
   "source": [
    "dj.Diagram(schema)"
   ]
  },
  {
   "cell_type": "code",
   "execution_count": 24,
   "metadata": {},
   "outputs": [],
   "source": [
    "@schema\n",
    "class Grade(dj.Manual):\n",
    "    definition = \"\"\"\n",
    "    -> Student\n",
    "    -> Assignment \n",
    "    ---\n",
    "    grade : decimal(5,2)\n",
    "\"\"\"\n"
   ]
  },
  {
   "cell_type": "code",
   "execution_count": 20,
   "metadata": {},
   "outputs": [
    {
     "data": {
      "text/plain": [
       "<bound method Table.drop of *stud_id    *grade_id    grade     assign_number \n",
       "+---------+ +----------+ +-------+ +------------+\n",
       "\n",
       " (Total: 0)\n",
       ">"
      ]
     },
     "execution_count": 20,
     "metadata": {},
     "output_type": "execute_result"
    }
   ],
   "source": [
    "Grade"
   ]
  },
  {
   "cell_type": "code",
   "execution_count": 26,
   "metadata": {},
   "outputs": [],
   "source": [
    "data_insert = [\n",
    "    ((1,'Assign-1', 98.5)),\n",
    "    ((4,'Assign-3', 78.9 )),\n",
    "    ((5,'Assign-2', 99.5))\n",
    "     \n",
    "    ]\n",
    "Grade.insert(data_insert)"
   ]
  },
  {
   "cell_type": "code",
   "execution_count": 28,
   "metadata": {},
   "outputs": [
    {
     "data": {
      "text/html": [
       "\n",
       "    \n",
       "    <style type=\"text/css\">\n",
       "        .Table{\n",
       "            border-collapse:collapse;\n",
       "        }\n",
       "        .Table th{\n",
       "            background: #A0A0A0; color: #ffffff; padding:4px; border:#f0e0e0 1px solid;\n",
       "            font-weight: normal; font-family: monospace; font-size: 100%;\n",
       "        }\n",
       "        .Table td{\n",
       "            padding:4px; border:#f0e0e0 1px solid; font-size:100%;\n",
       "        }\n",
       "        .Table tr:nth-child(odd){\n",
       "            background: #ffffff;\n",
       "            color: #000000;\n",
       "        }\n",
       "        .Table tr:nth-child(even){\n",
       "            background: #f3f1ff;\n",
       "            color: #000000;\n",
       "        }\n",
       "        /* Tooltip container */\n",
       "        .djtooltip {\n",
       "        }\n",
       "        /* Tooltip text */\n",
       "        .djtooltip .djtooltiptext {\n",
       "            visibility: hidden;\n",
       "            width: 120px;\n",
       "            background-color: black;\n",
       "            color: #fff;\n",
       "            text-align: center;\n",
       "            padding: 5px 0;\n",
       "            border-radius: 6px;\n",
       "            /* Position the tooltip text - see examples below! */\n",
       "            position: absolute;\n",
       "            z-index: 1;\n",
       "        }\n",
       "        #primary {\n",
       "            font-weight: bold;\n",
       "            color: black;\n",
       "        }\n",
       "        #nonprimary {\n",
       "            font-weight: normal;\n",
       "            color: white;\n",
       "        }\n",
       "\n",
       "        /* Show the tooltip text when you mouse over the tooltip container */\n",
       "        .djtooltip:hover .djtooltiptext {\n",
       "            visibility: visible;\n",
       "        }\n",
       "    </style>\n",
       "    \n",
       "    \n",
       "        <div style=\"max-height:1000px;max-width:1500px;overflow:auto;\">\n",
       "        <table border=\"1\" class=\"Table\">\n",
       "            <thead> <tr style=\"text-align: right;\"> <th> <div class=\"djtooltip\">\n",
       "                            <p id=\"primary\">stud_id</p>\n",
       "                            <span class=\"djtooltiptext\"></span>\n",
       "                        </div></th><th><div class=\"djtooltip\">\n",
       "                            <p id=\"primary\">assign_number</p>\n",
       "                            <span class=\"djtooltiptext\"></span>\n",
       "                        </div></th><th><div class=\"djtooltip\">\n",
       "                            <p id=\"nonprimary\">first_name</p>\n",
       "                            <span class=\"djtooltiptext\"></span>\n",
       "                        </div></th><th><div class=\"djtooltip\">\n",
       "                            <p id=\"nonprimary\">last_name</p>\n",
       "                            <span class=\"djtooltiptext\"></span>\n",
       "                        </div></th><th><div class=\"djtooltip\">\n",
       "                            <p id=\"nonprimary\">assign_name</p>\n",
       "                            <span class=\"djtooltiptext\"></span>\n",
       "                        </div></th><th><div class=\"djtooltip\">\n",
       "                            <p id=\"nonprimary\">grade</p>\n",
       "                            <span class=\"djtooltiptext\"></span>\n",
       "                        </div> </th> </tr> </thead>\n",
       "            <tbody> <tr> <td>1</td>\n",
       "<td>Assign-1</td>\n",
       "<td>Jane</td>\n",
       "<td>Doe</td>\n",
       "<td>creating SQL tables and inserting date</td>\n",
       "<td>98.50</td></tr><tr><td>4</td>\n",
       "<td>Assign-3</td>\n",
       "<td>James</td>\n",
       "<td>Don</td>\n",
       "<td>\"Relational database theory</td>\n",
       "<td>78.90</td></tr><tr><td>5</td>\n",
       "<td>Assign-2</td>\n",
       "<td>Toby</td>\n",
       "<td>Daniel</td>\n",
       "<td>Data models</td>\n",
       "<td>99.50</td> </tr> </tbody>\n",
       "        </table>\n",
       "        \n",
       "        <p>Total: 3</p></div>\n",
       "        "
      ],
      "text/plain": [
       "*stud_id    *assign_number first_name     last_name     assign_name    grade    \n",
       "+---------+ +------------+ +------------+ +-----------+ +------------+ +-------+\n",
       "1           Assign-1       Jane           Doe           creating SQL t 98.50    \n",
       "4           Assign-3       James          Don           \"Relational da 78.90    \n",
       "5           Assign-2       Toby           Daniel        Data models    99.50    \n",
       " (Total: 3)"
      ]
     },
     "execution_count": 28,
     "metadata": {},
     "output_type": "execute_result"
    }
   ],
   "source": [
    "Student*Assignment*Grade"
   ]
  },
  {
   "cell_type": "code",
   "execution_count": 29,
   "metadata": {},
   "outputs": [
    {
     "data": {
      "image/svg+xml": [
       "<svg xmlns=\"http://www.w3.org/2000/svg\" xmlns:xlink=\"http://www.w3.org/1999/xlink\" width=\"102pt\" height=\"185pt\" viewBox=\"0.00 0.00 102.00 185.00\">\n",
       "<g id=\"graph0\" class=\"graph\" transform=\"scale(1 1) rotate(0) translate(4 181)\">\n",
       "<title>%3</title>\n",
       "<polygon fill=\"white\" stroke=\"transparent\" points=\"-4,4 -4,-181 98,-181 98,4 -4,4\"/>\n",
       "<!-- Assignment -->\n",
       "<g id=\"node1\" class=\"node\">\n",
       "<title>Assignment</title>\n",
       "<g id=\"a_node1\"><a xlink:title=\"assign_number        \r------------------------------\rassign_name          \r→ Student\r\">\n",
       "<polygon fill=\"#000000\" fill-opacity=\"0.125490\" stroke=\"transparent\" points=\"68,-106 0,-106 0,-71 68,-71 68,-106\"/>\n",
       "<text text-anchor=\"start\" x=\"8\" y=\"-87\" font-family=\"arial\" text-decoration=\"underline\" font-size=\"10.00\">Assignment</text>\n",
       "</a>\n",
       "</g>\n",
       "</g>\n",
       "<!-- Grade -->\n",
       "<g id=\"node3\" class=\"node\">\n",
       "<title>Grade</title>\n",
       "<g id=\"a_node3\"><a xlink:title=\"→ Student\r→ Assignment\r------------------------------\rgrade                \r\">\n",
       "<polygon fill=\"#00ff00\" fill-opacity=\"0.188235\" stroke=\"#00ff00\" stroke-opacity=\"0.188235\" points=\"90,-35 40,-35 40,0 90,0 90,-35\"/>\n",
       "<text text-anchor=\"middle\" x=\"65\" y=\"-14.4\" font-family=\"arial\" font-size=\"12.00\" fill=\"darkgreen\">Grade</text>\n",
       "</a>\n",
       "</g>\n",
       "</g>\n",
       "<!-- Assignment&#45;&gt;Grade -->\n",
       "<g id=\"edge1\" class=\"edge\">\n",
       "<title>Assignment-&gt;Grade</title>\n",
       "<path fill=\"none\" stroke=\"#000000\" stroke-width=\"0.75\" stroke-opacity=\"0.250980\" d=\"M41.5,-70.8C46.38,-59.95 52.7,-45.87 57.56,-35.05\"/>\n",
       "</g>\n",
       "<!-- Student -->\n",
       "<g id=\"node2\" class=\"node\">\n",
       "<title>Student</title>\n",
       "<g id=\"a_node2\"><a xlink:title=\"stud_id              \r------------------------------\rfirst_name           \rlast_name            \r\">\n",
       "<polygon fill=\"#00ff00\" fill-opacity=\"0.188235\" stroke=\"#00ff00\" stroke-opacity=\"0.188235\" points=\"94,-177 36,-177 36,-142 94,-142 94,-177\"/>\n",
       "<text text-anchor=\"start\" x=\"44\" y=\"-157.4\" font-family=\"arial\" text-decoration=\"underline\" font-size=\"12.00\" fill=\"darkgreen\">Student</text>\n",
       "</a>\n",
       "</g>\n",
       "</g>\n",
       "<!-- Student&#45;&gt;Assignment -->\n",
       "<g id=\"edge2\" class=\"edge\">\n",
       "<title>Student-&gt;Assignment</title>\n",
       "<path fill=\"none\" stroke=\"#000000\" stroke-width=\"0.75\" stroke-dasharray=\"5,2\" stroke-opacity=\"0.250980\" d=\"M57.5,-141.8C52.62,-130.95 46.3,-116.87 41.44,-106.05\"/>\n",
       "</g>\n",
       "<!-- Student&#45;&gt;Grade -->\n",
       "<g id=\"edge3\" class=\"edge\">\n",
       "<title>Student-&gt;Grade</title>\n",
       "<path fill=\"none\" stroke=\"#000000\" stroke-width=\"0.75\" stroke-opacity=\"0.250980\" d=\"M69.87,-141.64C72.56,-131.43 75.64,-118.08 77,-106 78.74,-90.54 78.74,-86.46 77,-71 75.64,-58.92 72.56,-45.57 69.87,-35.36\"/>\n",
       "</g>\n",
       "</g>\n",
       "</svg>"
      ],
      "text/plain": [
       "<datajoint.diagram.Diagram at 0x7f8dfa3ba3a0>"
      ]
     },
     "execution_count": 29,
     "metadata": {},
     "output_type": "execute_result"
    }
   ],
   "source": [
    "dj.Diagram(schema)"
   ]
  }
 ],
 "metadata": {
  "kernelspec": {
   "display_name": "Python 3",
   "language": "python",
   "name": "python3"
  },
  "language_info": {
   "codemirror_mode": {
    "name": "ipython",
    "version": 3
   },
   "file_extension": ".py",
   "mimetype": "text/x-python",
   "name": "python",
   "nbconvert_exporter": "python",
   "pygments_lexer": "ipython3",
   "version": "3.9.17"
  },
  "orig_nbformat": 4
 },
 "nbformat": 4,
 "nbformat_minor": 2
}
