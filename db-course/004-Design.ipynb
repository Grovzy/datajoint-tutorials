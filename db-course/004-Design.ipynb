{
 "cells": [
  {
   "cell_type": "markdown",
   "metadata": {},
   "source": [
    "# Design\n",
    "\n",
    "## Problem 4. Online App\n",
    "\n",
    "You are designing a smart phone app\n",
    "\n",
    "1. Users can subscribe for free, identified by their US phone number without extensions. Provide first and last name.\n",
    "2. Users can add one or more credits cards to their account. Store zipcode, expiration date, and the CVC.\n",
    "3. The app has paid add-ons called \"Track & Field\", \"Marathon\", and \"Sprint\", each with a fixed price.\n",
    "4. A user can purchase each add-on, in which case she must provide a credit card for the purchase. A user cannot purchase the same addon twice."
   ]
  },
  {
   "cell_type": "code",
   "execution_count": 1,
   "metadata": {},
   "outputs": [],
   "source": [
    "import datajoint as dj"
   ]
  },
  {
   "cell_type": "code",
   "execution_count": 2,
   "metadata": {},
   "outputs": [
    {
     "name": "stderr",
     "output_type": "stream",
     "text": [
      "[2023-10-10 20:11:27,986][INFO]: Connecting root@fakeservices.datajoint.io:3306\n",
      "[2023-10-10 20:11:28,057][INFO]: Connected root@fakeservices.datajoint.io:3306\n"
     ]
    }
   ],
   "source": [
    "schema = dj.Schema('app')"
   ]
  },
  {
   "cell_type": "code",
   "execution_count": 4,
   "metadata": {},
   "outputs": [],
   "source": [
    "@schema\n",
    "class Account(dj.Manual):\n",
    "    definition = \"\"\"\n",
    "    phone : bigint unsigned \n",
    "    ---\n",
    "    first_name : varchar(30)\n",
    "    last_name : varchar(30)\n",
    "    \"\"\"\n"
   ]
  },
  {
   "cell_type": "code",
   "execution_count": 5,
   "metadata": {},
   "outputs": [],
   "source": [
    "@schema\n",
    "class CreditCard(dj.Manual):\n",
    "    definition = \"\"\"\n",
    "    card_number :  bigint unsigned \n",
    "    ---\n",
    "    exp_date : date \n",
    "    cvc      : smallint unsigned\n",
    "    zipcode  : int unsigned       \n",
    "    -> Account\n",
    "    \"\"\""
   ]
  },
  {
   "cell_type": "code",
   "execution_count": 6,
   "metadata": {},
   "outputs": [
    {
     "data": {
      "image/svg+xml": [
       "<svg xmlns=\"http://www.w3.org/2000/svg\" xmlns:xlink=\"http://www.w3.org/1999/xlink\" width=\"83pt\" height=\"114pt\" viewBox=\"0.00 0.00 83.00 114.00\">\n",
       "<g id=\"graph0\" class=\"graph\" transform=\"scale(1 1) rotate(0) translate(4 110)\">\n",
       "<title>%3</title>\n",
       "<polygon fill=\"white\" stroke=\"transparent\" points=\"-4,4 -4,-110 79,-110 79,4 -4,4\"/>\n",
       "<!-- Account -->\n",
       "<g id=\"node1\" class=\"node\">\n",
       "<title>Account</title>\n",
       "<g id=\"a_node1\"><a xlink:title=\"phone                \r------------------------------\rfirst_name           \rlast_name            \r\">\n",
       "<polygon fill=\"#00ff00\" fill-opacity=\"0.188235\" stroke=\"#00ff00\" stroke-opacity=\"0.188235\" points=\"67.5,-106 7.5,-106 7.5,-71 67.5,-71 67.5,-106\"/>\n",
       "<text text-anchor=\"start\" x=\"15.5\" y=\"-86.4\" font-family=\"arial\" text-decoration=\"underline\" font-size=\"12.00\" fill=\"darkgreen\">Account</text>\n",
       "</a>\n",
       "</g>\n",
       "</g>\n",
       "<!-- CreditCard -->\n",
       "<g id=\"node2\" class=\"node\">\n",
       "<title>CreditCard</title>\n",
       "<g id=\"a_node2\"><a xlink:title=\"card_number          \r------------------------------\rexp_date             \rcvc                  \rzipcode              \r→ Account\r\">\n",
       "<polygon fill=\"#00ff00\" fill-opacity=\"0.188235\" stroke=\"#00ff00\" stroke-opacity=\"0.188235\" points=\"75,-35 0,-35 0,0 75,0 75,-35\"/>\n",
       "<text text-anchor=\"start\" x=\"8\" y=\"-15.4\" font-family=\"arial\" text-decoration=\"underline\" font-size=\"12.00\" fill=\"darkgreen\">CreditCard</text>\n",
       "</a>\n",
       "</g>\n",
       "</g>\n",
       "<!-- Account&#45;&gt;CreditCard -->\n",
       "<g id=\"edge1\" class=\"edge\">\n",
       "<title>Account-&gt;CreditCard</title>\n",
       "<path fill=\"none\" stroke=\"#000000\" stroke-width=\"0.75\" stroke-dasharray=\"5,2\" stroke-opacity=\"0.250980\" d=\"M37.5,-70.8C37.5,-59.95 37.5,-45.87 37.5,-35.05\"/>\n",
       "</g>\n",
       "</g>\n",
       "</svg>"
      ],
      "text/plain": [
       "<datajoint.diagram.Diagram at 0x7f66ab329f10>"
      ]
     },
     "execution_count": 6,
     "metadata": {},
     "output_type": "execute_result"
    }
   ],
   "source": [
    "dj.Diagram(schema)"
   ]
  },
  {
   "cell_type": "code",
   "execution_count": null,
   "metadata": {},
   "outputs": [],
   "source": [
    "from faker import Faker\n",
    "fake = Faker()"
   ]
  },
  {
   "cell_type": "code",
   "execution_count": null,
   "metadata": {},
   "outputs": [],
   "source": [
    "@schema\n",
    "class AddOn(dj.Lookup):\n",
    "    definition = \"\"\"\n",
    "    addon_id : int\n",
    "    ---\n",
    "    addon_name : varchar(30)\n",
    "    price : decimal(5, 2) unsigned\n",
    "    \"\"\"\n",
    "\n",
    "    contents = ((1, \"Track & Field\", 13.99), (2, \"Marathon\", 26.2), (3, \"Sprint\", 100.00))"
   ]
  },
  {
   "cell_type": "code",
   "execution_count": null,
   "metadata": {},
   "outputs": [],
   "source": [
    "AddOn()"
   ]
  },
  {
   "cell_type": "code",
   "execution_count": null,
   "metadata": {},
   "outputs": [],
   "source": [
    "@schema\n",
    "class Purchase(dj.Manual):\n",
    "    definition = \"\"\"\n",
    "    -> Account\n",
    "    -> AddOn\n",
    "    ---\n",
    "    -> CreditCard\n",
    "    \"\"\""
   ]
  },
  {
   "cell_type": "code",
   "execution_count": null,
   "metadata": {},
   "outputs": [],
   "source": [
    "CreditCard()"
   ]
  },
  {
   "cell_type": "code",
   "execution_count": null,
   "metadata": {},
   "outputs": [],
   "source": [
    "dj.Diagram(schema)"
   ]
  },
  {
   "cell_type": "code",
   "execution_count": null,
   "metadata": {},
   "outputs": [],
   "source": [
    "Account()"
   ]
  },
  {
   "cell_type": "code",
   "execution_count": null,
   "metadata": {},
   "outputs": [],
   "source": [
    "Account.insert1(dict(\n",
    "    phone=fake.random_int(1_000_000_0000, 9_999_999_9999),\n",
    "    first_name=fake.first_name(),\n",
    "    last_name=fake.last_name()))"
   ]
  },
  {
   "cell_type": "code",
   "execution_count": null,
   "metadata": {},
   "outputs": [],
   "source": [
    "Account.insert(dict(\n",
    "    phone=fake.random_int(1_000_000_0000, 9_999_999_9999),\n",
    "    first_name=fake.first_name(),\n",
    "    last_name=fake.last_name()) for _ in range(10000))"
   ]
  },
  {
   "cell_type": "code",
   "execution_count": null,
   "metadata": {},
   "outputs": [],
   "source": [
    "2**16"
   ]
  },
  {
   "cell_type": "code",
   "execution_count": null,
   "metadata": {},
   "outputs": [],
   "source": [
    "Account()"
   ]
  },
  {
   "cell_type": "code",
   "execution_count": null,
   "metadata": {},
   "outputs": [],
   "source": [
    "CreditCard()"
   ]
  },
  {
   "cell_type": "code",
   "execution_count": null,
   "metadata": {},
   "outputs": [],
   "source": [
    "keys = Account.fetch(\"KEY\")"
   ]
  },
  {
   "cell_type": "code",
   "execution_count": null,
   "metadata": {},
   "outputs": [],
   "source": [
    "import random"
   ]
  },
  {
   "cell_type": "code",
   "execution_count": null,
   "metadata": {},
   "outputs": [],
   "source": [
    "fake.credit_card_number"
   ]
  },
  {
   "cell_type": "code",
   "execution_count": null,
   "metadata": {},
   "outputs": [],
   "source": [
    "CreditCard.insert1(\n",
    "    dict(random.choice(keys), \n",
    "         zipcode=random.randint(10000,99999), \n",
    "         card_number=int(fake.credit_card_number()),\n",
    "         cvc=random.randint(1, 999), \n",
    "         exp_date=fake.future_date()))"
   ]
  },
  {
   "cell_type": "code",
   "execution_count": null,
   "metadata": {},
   "outputs": [],
   "source": [
    "CreditCard.insert(\n",
    "    dict(random.choice(keys), \n",
    "         zipcode=random.randint(10000,99999), \n",
    "         card_number=int(fake.credit_card_number()),\n",
    "         cvc=random.randint(1, 999), \n",
    "         exp_date=fake.future_date()) for _ in range(15000))"
   ]
  },
  {
   "cell_type": "code",
   "execution_count": null,
   "metadata": {},
   "outputs": [],
   "source": [
    "dj.Diagram(schema)"
   ]
  },
  {
   "cell_type": "code",
   "execution_count": null,
   "metadata": {},
   "outputs": [],
   "source": [
    "purchase_key = ((Account & CreditCard) * AddOn).fetch('KEY', limit=1)[0]"
   ]
  },
  {
   "cell_type": "code",
   "execution_count": null,
   "metadata": {},
   "outputs": [],
   "source": [
    "Purchase.insert1(dict(purchase_key, **(CreditCard & purchase_key).fetch('KEY')[0]))"
   ]
  },
  {
   "cell_type": "code",
   "execution_count": null,
   "metadata": {},
   "outputs": [],
   "source": [
    "Purchase()"
   ]
  },
  {
   "cell_type": "code",
   "execution_count": null,
   "metadata": {},
   "outputs": [],
   "source": [
    "(Purchase * AddOn * Account).make_sql()"
   ]
  },
  {
   "cell_type": "code",
   "execution_count": null,
   "metadata": {},
   "outputs": [],
   "source": []
  }
 ],
 "metadata": {
  "kernelspec": {
   "display_name": "Python 3",
   "language": "python",
   "name": "python3"
  },
  "language_info": {
   "codemirror_mode": {
    "name": "ipython",
    "version": 3
   },
   "file_extension": ".py",
   "mimetype": "text/x-python",
   "name": "python",
   "nbconvert_exporter": "python",
   "pygments_lexer": "ipython3",
   "version": "3.9.17"
  },
  "orig_nbformat": 4
 },
 "nbformat": 4,
 "nbformat_minor": 2
}
