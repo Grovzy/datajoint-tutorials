{
 "cells": [
  {
   "cell_type": "code",
   "execution_count": 2,
   "metadata": {},
   "outputs": [],
   "source": [
    "import datajoint as dj"
   ]
  },
  {
   "cell_type": "code",
   "execution_count": 3,
   "metadata": {},
   "outputs": [],
   "source": [
    "dj.config['database.host'] = '127.0.0.1'\n",
    "dj.config['database.user'] = 'root'\n",
    "dj.config['database.password'] = 'simple'"
   ]
  },
  {
   "cell_type": "code",
   "execution_count": 4,
   "metadata": {},
   "outputs": [],
   "source": [
    "dj.config.save_local()"
   ]
  },
  {
   "cell_type": "code",
   "execution_count": 5,
   "metadata": {},
   "outputs": [
    {
     "name": "stderr",
     "output_type": "stream",
     "text": [
      "[2023-09-25 21:59:47,976][INFO]: Connecting root@127.0.0.1:3306\n",
      "[2023-09-25 21:59:48,057][INFO]: Connected root@127.0.0.1:3306\n"
     ]
    }
   ],
   "source": [
    "schema = dj.Schema('universityofstthomas')"
   ]
  },
  {
   "cell_type": "code",
   "execution_count": 6,
   "metadata": {},
   "outputs": [],
   "source": [
    "@schema\n",
    "class Department(dj.Manual):\n",
    "    definition = \"\"\"\n",
    "    dept_id: char(4)\n",
    "    ---\n",
    "    dep_name: varchar(10)\n",
    "    \"\"\""
   ]
  },
  {
   "cell_type": "code",
   "execution_count": 7,
   "metadata": {},
   "outputs": [],
   "source": [
    "@schema\n",
    "class Student(dj.Manual):\n",
    "    definition = \"\"\"\n",
    "    stud_id :    int\n",
    "    ---\n",
    "    first_name :    varchar(20)\n",
    "    last_name :     varchar(20)\n",
    "    date_of_birth : DATE\n",
    "    student_email:  varchar(30)\n",
    "    -> Department\n",
    "    \"\"\""
   ]
  },
  {
   "cell_type": "code",
   "execution_count": 8,
   "metadata": {},
   "outputs": [],
   "source": [
    "@schema\n",
    "class Course(dj.Manual):\n",
    "    definition = \"\"\"\n",
    "    course_id :    smallint unsigned\n",
    "    ---\n",
    "    course_name :  varchar(30)\n",
    "    course_desc :  varchar(60)\n",
    "    -> Student\n",
    "    -> Department\n",
    "\n",
    "\"\"\"   "
   ]
  },
  {
   "cell_type": "code",
   "execution_count": 9,
   "metadata": {},
   "outputs": [
    {
     "data": {
      "image/svg+xml": [
       "<svg xmlns=\"http://www.w3.org/2000/svg\" xmlns:xlink=\"http://www.w3.org/1999/xlink\" width=\"105pt\" height=\"185pt\" viewBox=\"0.00 0.00 104.50 185.00\">\n",
       "<g id=\"graph0\" class=\"graph\" transform=\"scale(1 1) rotate(0) translate(4 181)\">\n",
       "<title>%3</title>\n",
       "<polygon fill=\"white\" stroke=\"transparent\" points=\"-4,4 -4,-181 100.5,-181 100.5,4 -4,4\"/>\n",
       "<!-- Student -->\n",
       "<g id=\"node1\" class=\"node\">\n",
       "<title>Student</title>\n",
       "<g id=\"a_node1\"><a xlink:title=\"stud_id              \r------------------------------\rfirst_name           \rlast_name            \rdate_of_birth        \rstudent_email        \r→ Department\r\">\n",
       "<polygon fill=\"#00ff00\" fill-opacity=\"0.188235\" stroke=\"#00ff00\" stroke-opacity=\"0.188235\" points=\"58,-106 0,-106 0,-71 58,-71 58,-106\"/>\n",
       "<text text-anchor=\"start\" x=\"8\" y=\"-86.4\" font-family=\"arial\" text-decoration=\"underline\" font-size=\"12.00\" fill=\"darkgreen\">Student</text>\n",
       "</a>\n",
       "</g>\n",
       "</g>\n",
       "<!-- Course -->\n",
       "<g id=\"node2\" class=\"node\">\n",
       "<title>Course</title>\n",
       "<g id=\"a_node2\"><a xlink:title=\"course_id            \r------------------------------\rcourse_name          \rcourse_desc          \r→ Student\r→ Department\r\">\n",
       "<polygon fill=\"#00ff00\" fill-opacity=\"0.188235\" stroke=\"#00ff00\" stroke-opacity=\"0.188235\" points=\"85,-35 29,-35 29,0 85,0 85,-35\"/>\n",
       "<text text-anchor=\"start\" x=\"37\" y=\"-15.4\" font-family=\"arial\" text-decoration=\"underline\" font-size=\"12.00\" fill=\"darkgreen\">Course</text>\n",
       "</a>\n",
       "</g>\n",
       "</g>\n",
       "<!-- Student&#45;&gt;Course -->\n",
       "<g id=\"edge1\" class=\"edge\">\n",
       "<title>Student-&gt;Course</title>\n",
       "<path fill=\"none\" stroke=\"#000000\" stroke-width=\"0.75\" stroke-dasharray=\"5,2\" stroke-opacity=\"0.250980\" d=\"M35.78,-70.8C40.18,-59.95 45.89,-45.87 50.28,-35.05\"/>\n",
       "</g>\n",
       "<!-- Department -->\n",
       "<g id=\"node3\" class=\"node\">\n",
       "<title>Department</title>\n",
       "<g id=\"a_node3\"><a xlink:title=\"dept_id              \r------------------------------\rdep_name             \r\">\n",
       "<polygon fill=\"#00ff00\" fill-opacity=\"0.188235\" stroke=\"#00ff00\" stroke-opacity=\"0.188235\" points=\"96.5,-177 17.5,-177 17.5,-142 96.5,-142 96.5,-177\"/>\n",
       "<text text-anchor=\"start\" x=\"25.5\" y=\"-157.4\" font-family=\"arial\" text-decoration=\"underline\" font-size=\"12.00\" fill=\"darkgreen\">Department</text>\n",
       "</a>\n",
       "</g>\n",
       "</g>\n",
       "<!-- Department&#45;&gt;Student -->\n",
       "<g id=\"edge2\" class=\"edge\">\n",
       "<title>Department-&gt;Student</title>\n",
       "<path fill=\"none\" stroke=\"#000000\" stroke-width=\"0.75\" stroke-dasharray=\"5,2\" stroke-opacity=\"0.250980\" d=\"M50.22,-141.8C45.82,-130.95 40.11,-116.87 35.72,-106.05\"/>\n",
       "</g>\n",
       "<!-- Department&#45;&gt;Course -->\n",
       "<g id=\"edge3\" class=\"edge\">\n",
       "<title>Department-&gt;Course</title>\n",
       "<path fill=\"none\" stroke=\"#000000\" stroke-width=\"0.75\" stroke-dasharray=\"5,2\" stroke-opacity=\"0.250980\" d=\"M61.06,-141.59C63.31,-131.36 65.87,-118.01 67,-106 68.46,-90.51 68.46,-86.49 67,-71 65.87,-58.99 63.31,-45.64 61.06,-35.41\"/>\n",
       "</g>\n",
       "</g>\n",
       "</svg>"
      ],
      "text/plain": [
       "<datajoint.diagram.Diagram at 0x7f0a3006c4c0>"
      ]
     },
     "execution_count": 9,
     "metadata": {},
     "output_type": "execute_result"
    }
   ],
   "source": [
    "dj.Diagram(schema)"
   ]
  },
  {
   "cell_type": "code",
   "execution_count": 10,
   "metadata": {},
   "outputs": [],
   "source": [
    "@schema\n",
    "class StudentGrade(dj.Manual):\n",
    "    definition = \"\"\"\n",
    "        -> Student\n",
    "        assign_number : smallint\n",
    "        ---\n",
    "        grade :  DECIMAL(6, 2)\n",
    "        -> Course\n",
    "    \"\"\""
   ]
  },
  {
   "cell_type": "code",
   "execution_count": 11,
   "metadata": {},
   "outputs": [],
   "source": [
    "@schema\n",
    "class StudentGradesCourse(dj.Manual):\n",
    "    definition = \"\"\"\n",
    "        -> Course\n",
    "        -> StudentGrade\n",
    "    \"\"\"\n"
   ]
  },
  {
   "cell_type": "code",
   "execution_count": 20,
   "metadata": {},
   "outputs": [
    {
     "data": {
      "text/plain": [
       "<bound method Table.drop of *course_id    *stud_id    *assign_number\n",
       "+-----------+ +---------+ +------------+\n",
       "\n",
       " (Total: 0)\n",
       ">"
      ]
     },
     "execution_count": 20,
     "metadata": {},
     "output_type": "execute_result"
    }
   ],
   "source": [
    "StudentGradesCourse.drop"
   ]
  },
  {
   "cell_type": "code",
   "execution_count": 12,
   "metadata": {},
   "outputs": [],
   "source": [
    "@schema\n",
    "class BostonMarathonChampion(dj.Manual):\n",
    "    definition = \"\"\"\n",
    "     marathon_id:     int\n",
    "    ---\n",
    "    marathon_name : varchar(30)\n",
    "    gender :        enum('MEN','WOMEN')\n",
    "    nationality :   varchar(30)\n",
    "    year :    YEAR\n",
    "    \"\"\""
   ]
  },
  {
   "cell_type": "code",
   "execution_count": 13,
   "metadata": {},
   "outputs": [],
   "source": [
    "@schema\n",
    "class USState(dj.Manual):\n",
    "    definition = \"\"\"\n",
    "    state_id :         smallint\n",
    "    ---\n",
    "    state_capitals : varchar(20)\n",
    "    state_birds :    varchar(20)\n",
    "    state_flowers :  varchar(20)\n",
    "    \"\"\""
   ]
  },
  {
   "cell_type": "code",
   "execution_count": 14,
   "metadata": {},
   "outputs": [],
   "source": [
    "@schema\n",
    "class HTMLColors(dj.Manual):\n",
    "    definition = \"\"\"\n",
    "    htmlcolor_name :   varchar(10)\n",
    "    ---\n",
    "    red_value :        smallint\n",
    "    green_value :      smallint\n",
    "    blue_value :       smallint\n",
    "    \"\"\""
   ]
  },
  {
   "cell_type": "code",
   "execution_count": 19,
   "metadata": {},
   "outputs": [
    {
     "data": {
      "image/svg+xml": [
       "<svg xmlns=\"http://www.w3.org/2000/svg\" xmlns:xlink=\"http://www.w3.org/1999/xlink\" width=\"486pt\" height=\"327pt\" viewBox=\"0.00 0.00 486.00 327.00\">\n",
       "<g id=\"graph0\" class=\"graph\" transform=\"scale(1 1) rotate(0) translate(4 323)\">\n",
       "<title>%3</title>\n",
       "<polygon fill=\"white\" stroke=\"transparent\" points=\"-4,4 -4,-323 482,-323 482,4 -4,4\"/>\n",
       "<!-- StudentGrade -->\n",
       "<g id=\"node1\" class=\"node\">\n",
       "<title>StudentGrade</title>\n",
       "<g id=\"a_node1\"><a xlink:title=\"→ Student\rassign_number        \r------------------------------\rgrade                \r→ Course\r\">\n",
       "<polygon fill=\"#00ff00\" fill-opacity=\"0.188235\" stroke=\"#00ff00\" stroke-opacity=\"0.188235\" points=\"150.5,-106 59.5,-106 59.5,-71 150.5,-71 150.5,-106\"/>\n",
       "<text text-anchor=\"start\" x=\"67.5\" y=\"-86.4\" font-family=\"arial\" text-decoration=\"underline\" font-size=\"12.00\" fill=\"darkgreen\">StudentGrade</text>\n",
       "</a>\n",
       "</g>\n",
       "</g>\n",
       "<!-- StudentGradesCourse -->\n",
       "<g id=\"node5\" class=\"node\">\n",
       "<title>StudentGradesCourse</title>\n",
       "<g id=\"a_node5\"><a xlink:title=\"→ Course\r→ StudentGrade\r\">\n",
       "<polygon fill=\"#00ff00\" fill-opacity=\"0.188235\" stroke=\"#00ff00\" stroke-opacity=\"0.188235\" points=\"136,-35 0,-35 0,0 136,0 136,-35\"/>\n",
       "<text text-anchor=\"middle\" x=\"68\" y=\"-14.4\" font-family=\"arial\" font-size=\"12.00\" fill=\"darkgreen\">StudentGradesCourse</text>\n",
       "</a>\n",
       "</g>\n",
       "</g>\n",
       "<!-- StudentGrade&#45;&gt;StudentGradesCourse -->\n",
       "<g id=\"edge1\" class=\"edge\">\n",
       "<title>StudentGrade-&gt;StudentGradesCourse</title>\n",
       "<path fill=\"none\" stroke=\"#000000\" stroke-width=\"0.75\" stroke-opacity=\"0.250980\" d=\"M96.04,-70.8C90.23,-59.95 82.68,-45.87 76.87,-35.05\"/>\n",
       "</g>\n",
       "<!-- Department -->\n",
       "<g id=\"node2\" class=\"node\">\n",
       "<title>Department</title>\n",
       "<g id=\"a_node2\"><a xlink:title=\"dept_id              \r------------------------------\rdep_name             \r\">\n",
       "<polygon fill=\"#00ff00\" fill-opacity=\"0.188235\" stroke=\"#00ff00\" stroke-opacity=\"0.188235\" points=\"115.5,-319 36.5,-319 36.5,-284 115.5,-284 115.5,-319\"/>\n",
       "<text text-anchor=\"start\" x=\"44.5\" y=\"-299.4\" font-family=\"arial\" text-decoration=\"underline\" font-size=\"12.00\" fill=\"darkgreen\">Department</text>\n",
       "</a>\n",
       "</g>\n",
       "</g>\n",
       "<!-- Course -->\n",
       "<g id=\"node4\" class=\"node\">\n",
       "<title>Course</title>\n",
       "<g id=\"a_node4\"><a xlink:title=\"course_id            \r------------------------------\rcourse_name          \rcourse_desc          \r→ Student\r→ Department\r\">\n",
       "<polygon fill=\"#00ff00\" fill-opacity=\"0.188235\" stroke=\"#00ff00\" stroke-opacity=\"0.188235\" points=\"76,-177 20,-177 20,-142 76,-142 76,-177\"/>\n",
       "<text text-anchor=\"start\" x=\"28\" y=\"-157.4\" font-family=\"arial\" text-decoration=\"underline\" font-size=\"12.00\" fill=\"darkgreen\">Course</text>\n",
       "</a>\n",
       "</g>\n",
       "</g>\n",
       "<!-- Department&#45;&gt;Course -->\n",
       "<g id=\"edge2\" class=\"edge\">\n",
       "<title>Department-&gt;Course</title>\n",
       "<path fill=\"none\" stroke=\"#000000\" stroke-width=\"0.75\" stroke-dasharray=\"5,2\" stroke-opacity=\"0.250980\" d=\"M72.68,-283.89C67.29,-256.95 56.7,-204.02 51.32,-177.09\"/>\n",
       "</g>\n",
       "<!-- Student -->\n",
       "<g id=\"node6\" class=\"node\">\n",
       "<title>Student</title>\n",
       "<g id=\"a_node6\"><a xlink:title=\"stud_id              \r------------------------------\rfirst_name           \rlast_name            \rdate_of_birth        \rstudent_email        \r→ Department\r\">\n",
       "<polygon fill=\"#00ff00\" fill-opacity=\"0.188235\" stroke=\"#00ff00\" stroke-opacity=\"0.188235\" points=\"134,-248 76,-248 76,-213 134,-213 134,-248\"/>\n",
       "<text text-anchor=\"start\" x=\"84\" y=\"-228.4\" font-family=\"arial\" text-decoration=\"underline\" font-size=\"12.00\" fill=\"darkgreen\">Student</text>\n",
       "</a>\n",
       "</g>\n",
       "</g>\n",
       "<!-- Department&#45;&gt;Student -->\n",
       "<g id=\"edge3\" class=\"edge\">\n",
       "<title>Department-&gt;Student</title>\n",
       "<path fill=\"none\" stroke=\"#000000\" stroke-width=\"0.75\" stroke-dasharray=\"5,2\" stroke-opacity=\"0.250980\" d=\"M83.02,-283.8C87.58,-272.95 93.5,-258.87 98.04,-248.05\"/>\n",
       "</g>\n",
       "<!-- BostonMarathonChampion -->\n",
       "<g id=\"node3\" class=\"node\">\n",
       "<title>BostonMarathonChampion</title>\n",
       "<g id=\"a_node3\"><a xlink:title=\"marathon_id          \r------------------------------\rmarathon_name        \rgender               \rnationality          \ryear                 \r\">\n",
       "<polygon fill=\"#00ff00\" fill-opacity=\"0.188235\" stroke=\"#00ff00\" stroke-opacity=\"0.188235\" points=\"294,-319 134,-319 134,-284 294,-284 294,-319\"/>\n",
       "<text text-anchor=\"start\" x=\"142\" y=\"-299.4\" font-family=\"arial\" text-decoration=\"underline\" font-size=\"12.00\" fill=\"darkgreen\">BostonMarathonChampion</text>\n",
       "</a>\n",
       "</g>\n",
       "</g>\n",
       "<!-- Course&#45;&gt;StudentGrade -->\n",
       "<g id=\"edge4\" class=\"edge\">\n",
       "<title>Course-&gt;StudentGrade</title>\n",
       "<path fill=\"none\" stroke=\"#000000\" stroke-width=\"0.75\" stroke-dasharray=\"5,2\" stroke-opacity=\"0.250980\" d=\"M61.8,-141.8C70.76,-130.95 82.39,-116.87 91.33,-106.05\"/>\n",
       "</g>\n",
       "<!-- Course&#45;&gt;StudentGradesCourse -->\n",
       "<g id=\"edge5\" class=\"edge\">\n",
       "<title>Course-&gt;StudentGradesCourse</title>\n",
       "<path fill=\"none\" stroke=\"#000000\" stroke-width=\"0.75\" stroke-opacity=\"0.250980\" d=\"M47.2,-141.91C46.67,-124.2 46.72,-95.4 51,-71 53.15,-58.73 57.5,-45.39 61.26,-35.22\"/>\n",
       "</g>\n",
       "<!-- Student&#45;&gt;StudentGrade -->\n",
       "<g id=\"edge6\" class=\"edge\">\n",
       "<title>Student-&gt;StudentGrade</title>\n",
       "<path fill=\"none\" stroke=\"#000000\" stroke-width=\"0.75\" stroke-opacity=\"0.250980\" d=\"M105,-212.89C105,-185.95 105,-133.02 105,-106.09\"/>\n",
       "</g>\n",
       "<!-- Student&#45;&gt;Course -->\n",
       "<g id=\"edge7\" class=\"edge\">\n",
       "<title>Student-&gt;Course</title>\n",
       "<path fill=\"none\" stroke=\"#000000\" stroke-width=\"0.75\" stroke-dasharray=\"5,2\" stroke-opacity=\"0.250980\" d=\"M91.2,-212.8C82.24,-201.95 70.61,-187.87 61.67,-177.05\"/>\n",
       "</g>\n",
       "<!-- HTMLColors -->\n",
       "<g id=\"node7\" class=\"node\">\n",
       "<title>HTMLColors</title>\n",
       "<g id=\"a_node7\"><a xlink:title=\"htmlcolor_name       \r------------------------------\rred_value            \rgreen_value          \rblue_value           \r\">\n",
       "<polygon fill=\"#00ff00\" fill-opacity=\"0.188235\" stroke=\"#00ff00\" stroke-opacity=\"0.188235\" points=\"397.5,-319 312.5,-319 312.5,-284 397.5,-284 397.5,-319\"/>\n",
       "<text text-anchor=\"start\" x=\"320.5\" y=\"-299.4\" font-family=\"arial\" text-decoration=\"underline\" font-size=\"12.00\" fill=\"darkgreen\">HTMLColors</text>\n",
       "</a>\n",
       "</g>\n",
       "</g>\n",
       "<!-- USState -->\n",
       "<g id=\"node8\" class=\"node\">\n",
       "<title>USState</title>\n",
       "<g id=\"a_node8\"><a xlink:title=\"state_id             \r------------------------------\rstate_capitals       \rstate_birds          \rstate_flowers        \r\">\n",
       "<polygon fill=\"#00ff00\" fill-opacity=\"0.188235\" stroke=\"#00ff00\" stroke-opacity=\"0.188235\" points=\"478,-319 416,-319 416,-284 478,-284 478,-319\"/>\n",
       "<text text-anchor=\"start\" x=\"424\" y=\"-299.4\" font-family=\"arial\" text-decoration=\"underline\" font-size=\"12.00\" fill=\"darkgreen\">USState</text>\n",
       "</a>\n",
       "</g>\n",
       "</g>\n",
       "</g>\n",
       "</svg>"
      ],
      "text/plain": [
       "<datajoint.diagram.Diagram at 0x7f0a01ddba00>"
      ]
     },
     "execution_count": 19,
     "metadata": {},
     "output_type": "execute_result"
    }
   ],
   "source": [
    "dj.Diagram(schema)"
   ]
  }
 ],
 "metadata": {
  "kernelspec": {
   "display_name": "Python 3",
   "language": "python",
   "name": "python3"
  },
  "language_info": {
   "codemirror_mode": {
    "name": "ipython",
    "version": 3
   },
   "file_extension": ".py",
   "mimetype": "text/x-python",
   "name": "python",
   "nbconvert_exporter": "python",
   "pygments_lexer": "ipython3",
   "version": "3.9.17"
  },
  "orig_nbformat": 4
 },
 "nbformat": 4,
 "nbformat_minor": 2
}
